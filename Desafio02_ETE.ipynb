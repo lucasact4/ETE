{
  "nbformat": 4,
  "nbformat_minor": 0,
  "metadata": {
    "colab": {
      "name": "Desafio02 ETE",
      "provenance": [],
      "include_colab_link": true
    },
    "kernelspec": {
      "name": "python3",
      "display_name": "Python 3"
    },
    "language_info": {
      "name": "python"
    }
  },
  "cells": [
    {
      "cell_type": "markdown",
      "metadata": {
        "id": "view-in-github",
        "colab_type": "text"
      },
      "source": [
        "<a href=\"https://colab.research.google.com/github/lucasact4/Exercicios-ETE/blob/main/Desafio02_ETE.ipynb\" target=\"_parent\"><img src=\"https://colab.research.google.com/assets/colab-badge.svg\" alt=\"Open In Colab\"/></a>"
      ]
    },
    {
      "cell_type": "code",
      "execution_count": 1,
      "metadata": {
        "id": "-mXqqpOF1COz",
        "outputId": "e8ffaf75-c308-4270-c309-c8c3394327b5",
        "colab": {
          "base_uri": "https://localhost:8080/"
        }
      },
      "outputs": [
        {
          "output_type": "stream",
          "name": "stdout",
          "text": [
            "Digite um número: 8\n",
            "Digite outro número: 4\n",
            "O maior número é 8.0\n"
          ]
        }
      ],
      "source": [
        "# 1. Faça um Programa que peça dois números e imprima o maior deles.\n",
        "n1 = float(input('Digite um número: '))\n",
        "n2 = float(input('Digite outro número: '))\n",
        "if n1 > n2:\n",
        "  print('O maior número é {}'.format(n1))\n",
        "elif n2 > n1:\n",
        "  print('O maior número é {}'.format(n2))\n",
        "else:\n",
        "  print('Os números são iguais !')"
      ]
    },
    {
      "cell_type": "code",
      "source": [
        "# 2. Faça um Programa que peça um valor e mostre na tela se o valor é positivo ou negativo.\n",
        "n = float(input('Digite um número'))"
      ],
      "metadata": {
        "id": "-IYpZv5z1NRs"
      },
      "execution_count": null,
      "outputs": []
    },
    {
      "cell_type": "code",
      "source": [
        "# 3. Faça um Programa que verifique se uma letra digitada é \"F\" ou \"M\". Conforme a letra escrever:\n",
        "# F - Feminino, M - Masculino, Sexo Inválido.\n"
      ],
      "metadata": {
        "id": "10_WrUst1PHB"
      },
      "execution_count": null,
      "outputs": []
    },
    {
      "cell_type": "code",
      "source": [
        "# 4. Faça um Programa que verifique se uma letra digitada é vogal ou consoante.\n"
      ],
      "metadata": {
        "id": "8fHGEqlH1SJq"
      },
      "execution_count": null,
      "outputs": []
    },
    {
      "cell_type": "code",
      "source": [
        "# 5. Faça um Programa que leia três números e mostre o maior deles.\n"
      ],
      "metadata": {
        "id": "wkT_Jjpd1TTX"
      },
      "execution_count": null,
      "outputs": []
    },
    {
      "cell_type": "code",
      "source": [
        "# 6. Faça um Programa que leia três números e mostre o maior e o menor deles.\n"
      ],
      "metadata": {
        "id": "gIXvQu1F1Uew"
      },
      "execution_count": null,
      "outputs": []
    },
    {
      "cell_type": "code",
      "source": [
        "# 7. Faça um programa que pergunte o preço de três produtos e informe qual produto você\n",
        "# deve comprar, sabendo que a decisão é sempre pelo mais barato.\n"
      ],
      "metadata": {
        "id": "yDBeRZXP1ZBx"
      },
      "execution_count": null,
      "outputs": []
    },
    {
      "cell_type": "code",
      "source": [
        "# 8. Faça um Programa que leia três números e mostre-os em ordem decrescente.\n"
      ],
      "metadata": {
        "id": "8KiUxqna1aYn"
      },
      "execution_count": null,
      "outputs": []
    },
    {
      "cell_type": "code",
      "source": [
        "# 9. Faça um Programa que pergunte em que turno você estuda. Peça para digitar M-matutino ou V-Vespertino ou N- Noturno.\n",
        "# Imprima a mensagem \"Bom Dia!\", \"Boa Tarde!\" ou \"Boa Noite!\" ou \"Valor Inválido!\", conforme o caso.\n"
      ],
      "metadata": {
        "id": "pq7bvlY-1cN7"
      },
      "execution_count": null,
      "outputs": []
    },
    {
      "cell_type": "code",
      "source": [
        "# 10. Faça um Programa que peça um número correspondente a um determinado ano e em seguida informe se este ano é ou não bissexto.\n"
      ],
      "metadata": {
        "id": "qrYPARF51jMs"
      },
      "execution_count": null,
      "outputs": []
    },
    {
      "cell_type": "code",
      "source": [
        "# 11. Faça um Programa que peça uma data no formato dd/mm/aaaa e determine se a mesma é uma data válida.\n"
      ],
      "metadata": {
        "id": "UwhOPBrj1l11"
      },
      "execution_count": null,
      "outputs": []
    },
    {
      "cell_type": "code",
      "source": [
        "# 12. Faça um programa que faça 5 perguntas para uma pessoa sobre um crime. As perguntas são:\n",
        "# a. \"Telefonou para a vítima?\"\n",
        "# b. \"Esteve no local do crime?\"\n",
        "# c. \"Mora perto da vítima?\"\n",
        "# d. \"Devia para a vítima?\"\n",
        "# e. \"Já trabalhou com a vítima?\" O programa deve no final emitir uma classificação sobre a participação da pessoa no crime.\n",
        "# Se a pessoa responder positivamente a 2 questões ela deve ser classificada como \"Suspeita\", entre 3 e 4 como \"Cúmplice\" e\n",
        "# 5 como \"Assassino\". Caso contrário, ele será classificado como \"Inocente\".\n"
      ],
      "metadata": {
        "id": "iATApxGd1l7j"
      },
      "execution_count": null,
      "outputs": []
    }
  ]
}