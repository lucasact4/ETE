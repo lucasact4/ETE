{
  "nbformat": 4,
  "nbformat_minor": 0,
  "metadata": {
    "colab": {
      "name": "Desafio03 ETE",
      "provenance": [],
      "authorship_tag": "ABX9TyOl4h+huBm15PI90U2KuLZG",
      "include_colab_link": true
    },
    "kernelspec": {
      "name": "python3",
      "display_name": "Python 3"
    },
    "language_info": {
      "name": "python"
    }
  },
  "cells": [
    {
      "cell_type": "markdown",
      "metadata": {
        "id": "view-in-github",
        "colab_type": "text"
      },
      "source": [
        "<a href=\"https://colab.research.google.com/github/lucasact4/Exercicios-ETE/blob/main/Desafio03_ETE.ipynb\" target=\"_parent\"><img src=\"https://colab.research.google.com/assets/colab-badge.svg\" alt=\"Open In Colab\"/></a>"
      ]
    },
    {
      "cell_type": "code",
      "execution_count": null,
      "metadata": {
        "id": "vqX6-Ekzu94p"
      },
      "outputs": [],
      "source": [
        "# 1. Faça um programa que peça uma nota, entre zero e dez. Mostre uma mensagem caso o valor seja inválido e continue\n",
        "# pedindo até que o usuário informe um valor válido."
      ]
    },
    {
      "cell_type": "code",
      "source": [
        "# 2. Faça um programa que leia um nome de usuário e a sua senha e não aceite a senha igual ao nome do usuário,\n",
        "# mostrando uma mensagem de erro e voltando a pedir as informações."
      ],
      "metadata": {
        "id": "SFg5l6bUvIWs"
      },
      "execution_count": 1,
      "outputs": []
    },
    {
      "cell_type": "code",
      "source": [
        "# 3. Supondo que a população de um país A seja da ordem de 80000 habitantes com uma taxa anual de crescimento\n",
        "# de 3% e que a população de B seja 200000 habitantes com uma taxa de crescimento de 1.5%. Faça um programa\n",
        "# que calcule e escreva o número de anos necessários para que a população do país A ultrapasse ou iguale a\n",
        "# população do país B, mantidas as taxas de crescimento."
      ],
      "metadata": {
        "id": "QwWA-PCTvLEo"
      },
      "execution_count": 2,
      "outputs": []
    },
    {
      "cell_type": "code",
      "source": [
        "# 4. Altere o programa anterior permitindo ao usuário informar as populações e as taxas de crescimento\n",
        "# iniciais. Valide a entrada e permita repetir a operação."
      ],
      "metadata": {
        "id": "j5sKv358vOEz"
      },
      "execution_count": null,
      "outputs": []
    },
    {
      "cell_type": "code",
      "source": [
        "# 5. Faça um programa que imprima na tela os números de 1 a 20, um abaixo do outro. Depois modifique o\n",
        "# programa para que ele mostre os números um ao lado do outro."
      ],
      "metadata": {
        "id": "hFXFQ6YKvON4"
      },
      "execution_count": null,
      "outputs": []
    },
    {
      "cell_type": "code",
      "source": [
        "# 6. Faça um programa que leia 5 números e informe o maior número."
      ],
      "metadata": {
        "id": "B02qpAxVvOWM"
      },
      "execution_count": null,
      "outputs": []
    },
    {
      "cell_type": "code",
      "source": [
        "# 7. Faça um programa que leia 5 números e informe a soma e a média dos números."
      ],
      "metadata": {
        "id": "LPws6_fxvOd4"
      },
      "execution_count": null,
      "outputs": []
    },
    {
      "cell_type": "code",
      "source": [
        "# 8. Faça um programa que imprima na tela apenas os números ímpares entre 1 e 50."
      ],
      "metadata": {
        "id": "EKU9ekLEvOmg"
      },
      "execution_count": null,
      "outputs": []
    },
    {
      "cell_type": "code",
      "source": [
        "# 9. Faça um programa que receba dois números inteiros e gere os números inteiros\n",
        "# que estão no intervalo compreendido por eles."
      ],
      "metadata": {
        "id": "gwG_DwBgvOso"
      },
      "execution_count": null,
      "outputs": []
    },
    {
      "cell_type": "code",
      "source": [
        "# 10. Altere o programa anterior para mostrar no final a soma dos números."
      ],
      "metadata": {
        "id": "6eNb_xSrvOz4"
      },
      "execution_count": null,
      "outputs": []
    },
    {
      "cell_type": "code",
      "source": [
        "# 11. Faça um programa que calcule o valor total investido por um colecionador em sua coleção de CDs\n",
        "# e o valor médio gasto em cada um deles. O usuário deverá informar a quantidade de CDs e o valor para em cada um."
      ],
      "metadata": {
        "id": "v9_nLKeIvO7E"
      },
      "execution_count": null,
      "outputs": []
    },
    {
      "cell_type": "code",
      "source": [
        "# 12. Faça um programa que leia dez conjuntos de dois valores, o primeiro representando o número do aluno e o\n",
        "# segundo representando a sua altura em centímetros. Encontre o aluno mais alto e o mais baixo. Mostre o número\n",
        "# do aluno mais alto e o número do aluno mais baixo, junto com suas alturas."
      ],
      "metadata": {
        "id": "IRu7vyfuvPCI"
      },
      "execution_count": null,
      "outputs": []
    },
    {
      "cell_type": "code",
      "source": [
        "# 13. Faça um programa que leia uma quantidade indeterminada de números positivos e conte quantos deles\n",
        "# estão nos seguintes intervalos: [0-25], [26-50], [51-75] e [76-100]. A entrada de dados deverá\n",
        "# terminar quando for lido um número negativo."
      ],
      "metadata": {
        "id": "AOfLjP0zvPIk"
      },
      "execution_count": null,
      "outputs": []
    },
    {
      "cell_type": "code",
      "source": [
        "# 14. Faça um programa que mostre os n termos da Série a seguir:\n",
        "# S = 1/1 + 2/3 + 3/5 + 4/7 + 5/9 + ... + n/m. Imprima no final a soma da série."
      ],
      "metadata": {
        "id": "0R649w2hvPPe"
      },
      "execution_count": null,
      "outputs": []
    }
  ]
}