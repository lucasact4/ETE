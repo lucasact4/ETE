{
  "nbformat": 4,
  "nbformat_minor": 0,
  "metadata": {
    "colab": {
      "name": "Desafio03 ETE",
      "provenance": [],
      "include_colab_link": true
    },
    "kernelspec": {
      "name": "python3",
      "display_name": "Python 3"
    },
    "language_info": {
      "name": "python"
    }
  },
  "cells": [
    {
      "cell_type": "markdown",
      "metadata": {
        "id": "view-in-github",
        "colab_type": "text"
      },
      "source": [
        "<a href=\"https://colab.research.google.com/github/lucasact4/Exercicios-ETE/blob/main/Desafio03_ETE.ipynb\" target=\"_parent\"><img src=\"https://colab.research.google.com/assets/colab-badge.svg\" alt=\"Open In Colab\"/></a>"
      ]
    },
    {
      "cell_type": "code",
      "execution_count": 3,
      "metadata": {
        "id": "vqX6-Ekzu94p",
        "outputId": "fa9cad6f-45d2-4703-9f30-ca615e5a20a1",
        "colab": {
          "base_uri": "https://localhost:8080/"
        }
      },
      "outputs": [
        {
          "output_type": "stream",
          "name": "stdout",
          "text": [
            "Digite uma nota entre 0 e 10: -1\n",
            "Nota inválida, tente novamente !\n",
            "Digite uma nota entre 0 e 10: 11\n",
            "Nota inválida, tente novamente !\n",
            "Digite uma nota entre 0 e 10: 10\n",
            "Você digitou a nota número 10 !\n"
          ]
        }
      ],
      "source": [
        "# 1. Faça um programa que peça uma nota, entre zero e dez. Mostre uma mensagem caso o valor seja inválido e continue\n",
        "# pedindo até que o usuário informe um valor válido.\n",
        "num = int(input('Digite uma nota entre 0 e 10: '))\n",
        "while num > 10 or num < 0:\n",
        "  print('Nota inválida, tente novamente !')\n",
        "  num = int(input('Digite uma nota entre 0 e 10: '))\n",
        "print(f'Você digitou a nota número {num} !')"
      ]
    },
    {
      "cell_type": "code",
      "source": [
        "# 2. Faça um programa que leia um nome de usuário e a sua senha e não aceite a senha igual ao nome do usuário,\n",
        "# mostrando uma mensagem de erro e voltando a pedir as informações.\n",
        "nome = str(input('Digite o seu nome de usuário: '))\n",
        "senha = input('Digite a sua senha de usuário: ')\n",
        "while senha == nome:\n",
        "  print('ERRO. A sua senha é idêntica ao nome de usuário, por favor, tente novamente !')\n",
        "  senha = input('Digite a sua senha de usuário: ')\n",
        "print('Cadastro Finalizado !')"
      ],
      "metadata": {
        "id": "SFg5l6bUvIWs",
        "outputId": "5ac5253e-7b82-4a00-f73f-a08271a859aa",
        "colab": {
          "base_uri": "https://localhost:8080/"
        }
      },
      "execution_count": 4,
      "outputs": [
        {
          "output_type": "stream",
          "name": "stdout",
          "text": [
            "Digite o seu nome de usuário: Lucas\n",
            "Digite a sua senha de usuário: Lucas\n",
            "ERRO. A sua senha é idêntica ao nome de usuário, por favor, tente novamente !\n",
            "Digite a sua senha de usuário: Lucas\n",
            "ERRO. A sua senha é idêntica ao nome de usuário, por favor, tente novamente !\n",
            "Digite a sua senha de usuário: Lucas1\n",
            "Cadastro Finalizado !\n"
          ]
        }
      ]
    },
    {
      "cell_type": "code",
      "source": [
        "# 3. Supondo que a população de um país A seja da ordem de 80000 habitantes com uma taxa anual de crescimento\n",
        "# de 3% e que a população de B seja 200000 habitantes com uma taxa de crescimento de 1.5%. Faça um programa\n",
        "# que calcule e escreva o número de anos necessários para que a população do país A ultrapasse ou iguale a\n",
        "# população do país B, mantidas as taxas de crescimento.\n",
        "print('=-='*5)\n",
        "from time import sleep\n",
        "A1 = 80000\n",
        "B1 = 200000\n",
        "A2 = 80000\n",
        "B2 = 200000\n",
        "ano1 = 0\n",
        "ano2 = 0\n",
        "print('O país \"A\" possui atualmente 80.000 mil habitantes e com um aumento de 3% ao ano !')\n",
        "print('O país \"B\" possui atualmente 200.000 mil habitantes e com um aumento de 1,5% ao ano !')\n",
        "print('=-='*5)\n",
        "print('Vamos calcular quanto tempo o país \"A\" precisará crescrer populacionalmente para alcançar ou ultrapassar o país \"B\" ?')\n",
        "print('SIM\\n')\n",
        "print('PROCESSANDO...')\n",
        "sleep(2)\n",
        "while A2 < B2:\n",
        "  A2 = A2 * 3 / 100 + A2\n",
        "  ano1 = ano1 + 1\n",
        "while A1 < B1:\n",
        "  A1 = A1 * 3 / 100 + A1\n",
        "  B1 = B1 * 1.5 / 100 + B1\n",
        "  ano2 = ano2 + 1\n",
        "print('=-='*5)\n",
        "print(f'Para que o país \"A\" alcance a população do país \"B\" com um total de 200.000 mil habitantes fixos,\\nele terá que manter seu crescimento por {ano1} anos !')\n",
        "print(f'População País \"A\": {A2:.0f}\\nPopulação País \"B\": {B2:.0f}')\n",
        "print(f'Porém, para ele ultrapassar de fato o país \"B\" acompanhando o seu crescimento, ele terá que aguardar {ano2} anos ')\n",
        "print(f'População País \"A\": {A1:.0f}\\nPopulação País \"B\": {B1:.0f}')\n",
        "print('=-='*5)"
      ],
      "metadata": {
        "id": "QwWA-PCTvLEo",
        "outputId": "6af7aafb-986f-452d-bb79-c6cd695e28a1",
        "colab": {
          "base_uri": "https://localhost:8080/"
        }
      },
      "execution_count": 16,
      "outputs": [
        {
          "output_type": "stream",
          "name": "stdout",
          "text": [
            "=-==-==-==-==-=\n",
            "O país \"A\" possui atualmente 80.000 mil habitantes e com um aumento de 3% ao ano !\n",
            "O país \"B\" possui atualmente 200.000 mil habitantes e com um aumento de 1,5% ao ano !\n",
            "=-==-==-==-==-=\n",
            "Vamos calcular quanto tempo o país \"A\" precisará crescrer populacionalmente para alcançar ou ultrapassar o país \"B\" ?\n",
            "SIM\n",
            "\n",
            "PROCESSANDO...\n",
            "=-==-==-==-==-=\n",
            "Para que o país \"A\" alcance a população do país \"B\" com um total de 200.000 mil habitantes fixos,\n",
            "ele terá que manter seu crescimento por 31 anos !\n",
            "População País \"A\": 200006\n",
            "População País \"B\": 200000\n",
            "Porém, para ele ultrapassar de fato o país \"B\" acompanhando o seu crescimento, ele terá que aguardar 63 anos \n",
            "População País \"A\": 515033\n",
            "População País \"B\": 510964\n",
            "=-==-==-==-==-=\n"
          ]
        }
      ]
    },
    {
      "cell_type": "code",
      "source": [
        "# 4. Altere o programa anterior permitindo ao usuário informar as populações e as taxas de crescimento\n",
        "# iniciais. Valide a entrada e permita repetir a operação.\n",
        "print('=-='*5)\n",
        "from time import sleep\n",
        "rep = 'S'\n",
        "while rep == 'S':\n",
        "  A1 = int(input('Informe a população do país \"A\": '))\n",
        "  ataxa = float(input('Informe a taxa de crescimento do país \"A\": '))\n",
        "  B1 = int(input('Informe a população do país \"B\": '))\n",
        "  btaxa = float(input('Informe a taxa de crescimento do país \"B\": '))\n",
        "  A2 = A1\n",
        "  B2 = B1\n",
        "  ano1 = 0\n",
        "  ano2 = 0\n",
        "  print(f'O país \"A\" possui atualmente {A1} mil habitantes e com um aumento de {ataxa}% ao ano !')\n",
        "  print(f'O país \"B\" possui atualmente {B1} mil habitantes e com um aumento de {btaxa}% ao ano !')\n",
        "  print('=-='*5)\n",
        "  print('Vamos calcular quanto tempo o país \"A\" precisará crescrer populacionalmente para alcançar ou ultrapassar o país \"B\" ?')\n",
        "  print('SIM\\n')\n",
        "  print('PROCESSANDO...')\n",
        "  sleep(2)\n",
        "  while A2 < B2:\n",
        "    A2 = A2 * ataxa / 100 + A2\n",
        "    ano1 = ano1 + 1\n",
        "  while A1 < B1:\n",
        "    A1 = A1 * ataxa / 100 + A1\n",
        "    B1 = B1 * btaxa / 100 + B1\n",
        "    ano2 = ano2 + 1\n",
        "  print('=-='*5)\n",
        "  print(f'Para que o país \"A\" alcance a população do país \"B\" com um total de 200.000 mil habitantes fixos,\\nele terá que manter seu crescimento por {ano1} anos !')\n",
        "  print(f'População País \"A\": {A2:.0f}\\nPopulação País \"B\": {B2:.0f}')\n",
        "  print(f'Porém, para ele ultrapassar de fato o país \"B\" acompanhando o seu crescimento, ele terá que aguardar {ano2} anos ')\n",
        "  print(f'População País \"A\": {A1:.0f}\\nPopulação País \"B\": {B1:.0f}')\n",
        "  print('=-='*5)\n",
        "  rep = str(input('Deseja repetir ? (SIM - S|NÃO - N)')).upper()\n",
        "  while rep != 'S' and rep != 'N':\n",
        "    print('Ação inválida, tente novamente !')\n",
        "    rep = str(input('Deseja repetir ? (SIM - S|NÃO - N)')).upper()\n",
        "  if rep == 'S':\n",
        "    rep = 'S'\n",
        "  else:\n",
        "    rep = 'N'\n",
        "    print('Programa Finalizado !')"
      ],
      "metadata": {
        "id": "j5sKv358vOEz",
        "outputId": "cb3c8b02-6f90-4cc1-9378-78ad1cedd9d9",
        "colab": {
          "base_uri": "https://localhost:8080/"
        }
      },
      "execution_count": 24,
      "outputs": [
        {
          "output_type": "stream",
          "name": "stdout",
          "text": [
            "=-==-==-==-==-=\n",
            "Informe a população do país \"A\": 80000\n",
            "Informe a taxa de crescimento do país \"A\": 3\n",
            "Informe a população do país \"B\": 200000\n",
            "Informe a taxa de crescimento do país \"B\": 1.5\n",
            "O país \"A\" possui atualmente 80000 mil habitantes e com um aumento de 3.0% ao ano !\n",
            "O país \"B\" possui atualmente 200000 mil habitantes e com um aumento de 1.5% ao ano !\n",
            "=-==-==-==-==-=\n",
            "Vamos calcular quanto tempo o país \"A\" precisará crescrer populacionalmente para alcançar ou ultrapassar o país \"B\" ?\n",
            "SIM\n",
            "\n",
            "PROCESSANDO...\n",
            "=-==-==-==-==-=\n",
            "Para que o país \"A\" alcance a população do país \"B\" com um total de 200.000 mil habitantes fixos,\n",
            "ele terá que manter seu crescimento por 31 anos !\n",
            "População País \"A\": 200006\n",
            "População País \"B\": 200000\n",
            "Porém, para ele ultrapassar de fato o país \"B\" acompanhando o seu crescimento, ele terá que aguardar 63 anos \n",
            "População País \"A\": 515033\n",
            "População País \"B\": 510964\n",
            "=-==-==-==-==-=\n",
            "Deseja repetir ? (SIM - S|NÃO - N)f\n",
            "Ação inválida, tente novamente !\n",
            "Deseja repetir ? (SIM - S|NÃO - N)s\n",
            "Informe a população do país \"A\": 100000\n",
            "Informe a taxa de crescimento do país \"A\": 5.5\n",
            "Informe a população do país \"B\": 200000\n",
            "Informe a taxa de crescimento do país \"B\": 2.3\n",
            "O país \"A\" possui atualmente 100000 mil habitantes e com um aumento de 5.5% ao ano !\n",
            "O país \"B\" possui atualmente 200000 mil habitantes e com um aumento de 2.3% ao ano !\n",
            "=-==-==-==-==-=\n",
            "Vamos calcular quanto tempo o país \"A\" precisará crescrer populacionalmente para alcançar ou ultrapassar o país \"B\" ?\n",
            "SIM\n",
            "\n",
            "PROCESSANDO...\n",
            "=-==-==-==-==-=\n",
            "Para que o país \"A\" alcance a população do país \"B\" com um total de 200.000 mil habitantes fixos,\n",
            "ele terá que manter seu crescimento por 13 anos !\n",
            "População País \"A\": 200577\n",
            "População País \"B\": 200000\n",
            "Porém, para ele ultrapassar de fato o país \"B\" acompanhando o seu crescimento, ele terá que aguardar 23 anos \n",
            "População País \"A\": 342615\n",
            "População País \"B\": 337419\n",
            "=-==-==-==-==-=\n",
            "Deseja repetir ? (SIM - S|NÃO - N)N\n",
            "Programa Finalizado !\n"
          ]
        }
      ]
    },
    {
      "cell_type": "code",
      "source": [
        "# 5. Faça um programa que imprima na tela os números de 1 a 20, um abaixo do outro. Depois modifique o\n",
        "# programa para que ele mostre os números um ao lado do outro.\n",
        "for num in range(20):\n",
        "  print(num+1)\n",
        "print('\\n')\n",
        "for num in range(20):\n",
        "  print(num+1, end=' ')"
      ],
      "metadata": {
        "id": "hFXFQ6YKvON4",
        "outputId": "f0f29bff-afda-4efc-84cb-efb6927db303",
        "colab": {
          "base_uri": "https://localhost:8080/"
        }
      },
      "execution_count": 29,
      "outputs": [
        {
          "output_type": "stream",
          "name": "stdout",
          "text": [
            "1\n",
            "2\n",
            "3\n",
            "4\n",
            "5\n",
            "6\n",
            "7\n",
            "8\n",
            "9\n",
            "10\n",
            "11\n",
            "12\n",
            "13\n",
            "14\n",
            "15\n",
            "16\n",
            "17\n",
            "18\n",
            "19\n",
            "20\n",
            "\n",
            "\n",
            "1 2 3 4 5 6 7 8 9 10 11 12 13 14 15 16 17 18 19 20 "
          ]
        }
      ]
    },
    {
      "cell_type": "code",
      "source": [
        "# 6. Faça um programa que leia 5 números e informe o maior número.\n",
        "numeros = []\n",
        "for num in range(1, 6):\n",
        "    numeros.append(int(input('Digite um número: ')))\n",
        "\n",
        "maiornum = numeros[0]\n",
        "\n",
        "cont = 1\n",
        "while cont < len(numeros):\n",
        "    if numeros[cont] > maiornum:\n",
        "        maiornum = numeros[cont]\n",
        "    cont = cont + 1\n",
        "        \n",
        "print ('O maior número é ' + str (maiornum))"
      ],
      "metadata": {
        "id": "B02qpAxVvOWM",
        "outputId": "27c86e73-188a-46be-eff5-22110fb380fb",
        "colab": {
          "base_uri": "https://localhost:8080/"
        }
      },
      "execution_count": 32,
      "outputs": [
        {
          "output_type": "stream",
          "name": "stdout",
          "text": [
            "Digite um número: 5\n",
            "Digite um número: 9\n",
            "Digite um número: 2\n",
            "Digite um número: 4\n",
            "Digite um número: 10\n",
            "O maior número é 10\n"
          ]
        }
      ]
    },
    {
      "cell_type": "code",
      "source": [
        "# 7. Faça um programa que leia 5 números e informe a soma e a média dos números.\n",
        "numeros = []\n",
        "for num in range(1, 6):\n",
        "    numeros.append(int(input('Digite um número: ')))\n",
        "soma = numeros[0] + numeros[1] + numeros[2] + numeros[3] + numeros[4]\n",
        "print(f'A soma dos números digitados é {soma} !')\n",
        "media = (numeros[0] + numeros[1] + numeros[2] + numeros[3] + numeros[4]) / 5\n",
        "print(f'A média dos números digitados é {media} !')"
      ],
      "metadata": {
        "id": "LPws6_fxvOd4",
        "outputId": "26470326-212e-4b6b-ca45-d8f068406a94",
        "colab": {
          "base_uri": "https://localhost:8080/"
        }
      },
      "execution_count": 38,
      "outputs": [
        {
          "output_type": "stream",
          "name": "stdout",
          "text": [
            "Digite um número: 1\n",
            "Digite um número: 2\n",
            "Digite um número: 3\n",
            "Digite um número: 4\n",
            "Digite um número: 5\n",
            "A soma dos números digitados é 15 !\n",
            "A média dos números digitados é 3.0 !\n"
          ]
        }
      ]
    },
    {
      "cell_type": "code",
      "source": [
        "# 8. Faça um programa que imprima na tela apenas os números ímpares entre 1 e 50."
      ],
      "metadata": {
        "id": "EKU9ekLEvOmg"
      },
      "execution_count": null,
      "outputs": []
    },
    {
      "cell_type": "code",
      "source": [
        "# 9. Faça um programa que receba dois números inteiros e gere os números inteiros\n",
        "# que estão no intervalo compreendido por eles."
      ],
      "metadata": {
        "id": "gwG_DwBgvOso"
      },
      "execution_count": null,
      "outputs": []
    },
    {
      "cell_type": "code",
      "source": [
        "# 10. Altere o programa anterior para mostrar no final a soma dos números."
      ],
      "metadata": {
        "id": "6eNb_xSrvOz4"
      },
      "execution_count": null,
      "outputs": []
    },
    {
      "cell_type": "code",
      "source": [
        "# 11. Faça um programa que calcule o valor total investido por um colecionador em sua coleção de CDs\n",
        "# e o valor médio gasto em cada um deles. O usuário deverá informar a quantidade de CDs e o valor para em cada um."
      ],
      "metadata": {
        "id": "v9_nLKeIvO7E"
      },
      "execution_count": null,
      "outputs": []
    },
    {
      "cell_type": "code",
      "source": [
        "# 12. Faça um programa que leia dez conjuntos de dois valores, o primeiro representando o número do aluno e o\n",
        "# segundo representando a sua altura em centímetros. Encontre o aluno mais alto e o mais baixo. Mostre o número\n",
        "# do aluno mais alto e o número do aluno mais baixo, junto com suas alturas."
      ],
      "metadata": {
        "id": "IRu7vyfuvPCI"
      },
      "execution_count": null,
      "outputs": []
    },
    {
      "cell_type": "code",
      "source": [
        "# 13. Faça um programa que leia uma quantidade indeterminada de números positivos e conte quantos deles\n",
        "# estão nos seguintes intervalos: [0-25], [26-50], [51-75] e [76-100]. A entrada de dados deverá\n",
        "# terminar quando for lido um número negativo."
      ],
      "metadata": {
        "id": "AOfLjP0zvPIk"
      },
      "execution_count": null,
      "outputs": []
    },
    {
      "cell_type": "code",
      "source": [
        "# 14. Faça um programa que mostre os n termos da Série a seguir:\n",
        "# S = 1/1 + 2/3 + 3/5 + 4/7 + 5/9 + ... + n/m. Imprima no final a soma da série."
      ],
      "metadata": {
        "id": "0R649w2hvPPe"
      },
      "execution_count": null,
      "outputs": []
    }
  ]
}