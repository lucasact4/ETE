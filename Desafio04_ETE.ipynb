{
  "nbformat": 4,
  "nbformat_minor": 0,
  "metadata": {
    "colab": {
      "name": "Desafio04 ETE",
      "provenance": [],
      "collapsed_sections": [],
      "authorship_tag": "ABX9TyMLsW744spqV1llmXuTZokB",
      "include_colab_link": true
    },
    "kernelspec": {
      "name": "python3",
      "display_name": "Python 3"
    },
    "language_info": {
      "name": "python"
    }
  },
  "cells": [
    {
      "cell_type": "markdown",
      "metadata": {
        "id": "view-in-github",
        "colab_type": "text"
      },
      "source": [
        "<a href=\"https://colab.research.google.com/github/lucasact4/Exercicios-ETE/blob/main/Desafio04_ETE.ipynb\" target=\"_parent\"><img src=\"https://colab.research.google.com/assets/colab-badge.svg\" alt=\"Open In Colab\"/></a>"
      ]
    },
    {
      "cell_type": "code",
      "execution_count": null,
      "metadata": {
        "id": "-mHFb7o53011"
      },
      "outputs": [],
      "source": [
        "# 1. Faça um Programa que leia um vetor de 5 números inteiros e mostre-os."
      ]
    },
    {
      "cell_type": "code",
      "source": [
        "# 2. Faça um Programa que leia um vetor de 10 números reais e mostre-os na ordem inversa."
      ],
      "metadata": {
        "id": "hexvt0Ek34sR"
      },
      "execution_count": null,
      "outputs": []
    },
    {
      "cell_type": "code",
      "source": [
        "# 3. Faça um Programa que leia 4 notas, mostre as notas e a média na tela."
      ],
      "metadata": {
        "id": "GN03-MDq340J"
      },
      "execution_count": null,
      "outputs": []
    },
    {
      "cell_type": "code",
      "source": [
        "# 4. Faça um Programa que leia um vetor de 10 caracteres, e diga quantas consoantes foram lidas.\n",
        "# Imprima as consoantes."
      ],
      "metadata": {
        "id": "TdO5ltJq34-J"
      },
      "execution_count": null,
      "outputs": []
    },
    {
      "cell_type": "code",
      "source": [
        "# 5. Faça um Programa que leia 20 números inteiros e armazene-os num vetor. Armazene os números\n",
        "# pares no vetor PAR e os números IMPARES no vetor impar. Imprima os três vetores."
      ],
      "metadata": {
        "id": "9OFZ6Byw35Hh"
      },
      "execution_count": null,
      "outputs": []
    },
    {
      "cell_type": "code",
      "source": [
        "# 6. Faça um Programa que peça as quatro notas de 10 alunos, calcule e armazene num vetor a média\n",
        "# de cada aluno, imprima o número de alunos com média maior ou igual a 7.0."
      ],
      "metadata": {
        "id": "lfDhXaVh35P5"
      },
      "execution_count": null,
      "outputs": []
    },
    {
      "cell_type": "code",
      "source": [
        "# 7. Faça um Programa que leia um vetor de 5 números inteiros,\n",
        "# mostre a soma, a multiplicação e os números."
      ],
      "metadata": {
        "id": "Hdj3ubH035WK"
      },
      "execution_count": null,
      "outputs": []
    },
    {
      "cell_type": "code",
      "source": [
        "# 8. Faça um Programa que peça a idade e a altura de 5 pessoas, armazene cada informação\n",
        "# no seu respectivo vetor. Imprima a idade e a altura na ordem inversa a ordem lida."
      ],
      "metadata": {
        "id": "kd0wkgvH35cq"
      },
      "execution_count": null,
      "outputs": []
    },
    {
      "cell_type": "code",
      "source": [
        "# 9. Faça um Programa que leia um vetor A com 10 números inteiros, calcule\n",
        "# e mostre a soma dos quadrados dos elementos do vetor."
      ],
      "metadata": {
        "id": "HAiwMvwC35hg"
      },
      "execution_count": null,
      "outputs": []
    },
    {
      "cell_type": "code",
      "source": [
        "# 10. Faça um Programa que leia dois vetores com 10 elementos cada. Gere um terceiro vetor de\n",
        "# 20 elementos, cujos valores deverão ser compostos pelos elementos intercalados dos dois outros vetores"
      ],
      "metadata": {
        "id": "5nCp5ycj35my"
      },
      "execution_count": null,
      "outputs": []
    }
  ]
}