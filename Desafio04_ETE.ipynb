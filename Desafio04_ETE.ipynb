{
  "nbformat": 4,
  "nbformat_minor": 0,
  "metadata": {
    "colab": {
      "name": "Desafio04 ETE",
      "provenance": [],
      "collapsed_sections": [],
      "authorship_tag": "ABX9TyNd5n7Y7MED99vGojTzWaUc",
      "include_colab_link": true
    },
    "kernelspec": {
      "name": "python3",
      "display_name": "Python 3"
    },
    "language_info": {
      "name": "python"
    }
  },
  "cells": [
    {
      "cell_type": "markdown",
      "metadata": {
        "id": "view-in-github",
        "colab_type": "text"
      },
      "source": [
        "<a href=\"https://colab.research.google.com/github/lucasact4/Exercicios-ETE/blob/main/Desafio04_ETE.ipynb\" target=\"_parent\"><img src=\"https://colab.research.google.com/assets/colab-badge.svg\" alt=\"Open In Colab\"/></a>"
      ]
    },
    {
      "cell_type": "code",
      "execution_count": 3,
      "metadata": {
        "id": "-mHFb7o53011",
        "outputId": "6f4bab97-20af-4881-96e7-cc606c25b6dd",
        "colab": {
          "base_uri": "https://localhost:8080/"
        }
      },
      "outputs": [
        {
          "output_type": "stream",
          "name": "stdout",
          "text": [
            "Digite o 1° número: 10\n",
            "Digite o 2° número: 8\n",
            "Digite o 3° número: 6\n",
            "Digite o 4° número: 4\n",
            "Digite o 5° número: 2\n",
            "[10, 8, 6, 4, 2]\n"
          ]
        }
      ],
      "source": [
        "# 1. Faça um Programa que leia um vetor de 5 números inteiros e mostre-os.\n",
        "vetor = []\n",
        "cont = 1\n",
        "for x in range(0, 5):\n",
        "  vetor.append(int(input(f'Digite o {cont}° número: ')))\n",
        "  cont = cont + 1\n",
        "print(vetor)"
      ]
    },
    {
      "cell_type": "code",
      "source": [
        "# 2. Faça um Programa que leia um vetor de 10 números reais e mostre-os na ordem inversa.\n",
        "vetor = []\n",
        "cont = 1\n",
        "for x in range(0, 10):\n",
        "  vetor.append(int(input(f'Digite o {cont}° número: ')))\n",
        "  cont = cont + 1\n",
        "vetor.reverse()\n",
        "print(vetor)"
      ],
      "metadata": {
        "id": "hexvt0Ek34sR",
        "outputId": "27ba3cf0-7338-431d-9504-be0b3c70ef35",
        "colab": {
          "base_uri": "https://localhost:8080/"
        }
      },
      "execution_count": 4,
      "outputs": [
        {
          "output_type": "stream",
          "name": "stdout",
          "text": [
            "Digite o 1° número: 10\n",
            "Digite o 2° número: 9\n",
            "Digite o 3° número: 8\n",
            "Digite o 4° número: 7\n",
            "Digite o 5° número: 6\n",
            "Digite o 6° número: 5\n",
            "Digite o 7° número: 4\n",
            "Digite o 8° número: 3\n",
            "Digite o 9° número: 2\n",
            "Digite o 10° número: 1\n",
            "[1, 2, 3, 4, 5, 6, 7, 8, 9, 10]\n"
          ]
        }
      ]
    },
    {
      "cell_type": "code",
      "source": [
        "# 3. Faça um Programa que leia 4 notas, mostre as notas e a média na tela.\n",
        "notas = []\n",
        "cont = 1\n",
        "for x in range(0, 4):\n",
        "  notas.append(int(input(f'Digite a {cont}° nota: ')))\n",
        "  cont = cont + 1\n",
        "print(f'A média é: {sum(notas)/len(notas)}')"
      ],
      "metadata": {
        "id": "GN03-MDq340J",
        "outputId": "7f4582bf-f7ea-4d4b-fb07-a8db1d940fc9",
        "colab": {
          "base_uri": "https://localhost:8080/"
        }
      },
      "execution_count": 5,
      "outputs": [
        {
          "output_type": "stream",
          "name": "stdout",
          "text": [
            "Digite a 1° nota: 10\n",
            "Digite a 2° nota: 8\n",
            "Digite a 3° nota: 6\n",
            "Digite a 4° nota: 4\n",
            "A média é: 7.0\n"
          ]
        }
      ]
    },
    {
      "cell_type": "code",
      "source": [
        "# 4. Faça um Programa que leia um vetor de 10 caracteres, e diga quantas consoantes foram lidas.\n",
        "# Imprima as consoantes.\n",
        "caracter = []\n",
        "cont = 1\n",
        "const = 0\n",
        "for x in range(0, 10):\n",
        "  car = str(input(f'Digite o {cont}° caractere: ')).upper()\n",
        "  caracter.append(car)\n",
        "  cont = cont + 1\n",
        "  if car != 'A' and caracter != 'E' and caracter != 'I' and caracter != 'O' and caracter != 'U':\n",
        "    const = const + 1\n",
        "print(f'Existem {const} consoantes !')\n"
      ],
      "metadata": {
        "id": "TdO5ltJq34-J",
        "outputId": "a293d0c5-0ef0-420e-a903-4f9cda9947ce",
        "colab": {
          "base_uri": "https://localhost:8080/"
        }
      },
      "execution_count": 11,
      "outputs": [
        {
          "output_type": "stream",
          "name": "stdout",
          "text": [
            "Digite o 1° caractere: a\n",
            "Digite o 2° caractere: a\n",
            "Digite o 3° caractere: a\n",
            "Digite o 4° caractere: a\n",
            "Digite o 5° caractere: a\n",
            "Digite o 6° caractere: a\n",
            "Digite o 7° caractere: a\n",
            "Digite o 8° caractere: a\n",
            "Digite o 9° caractere: a\n",
            "Digite o 10° caractere: b\n",
            "Existem 1 consoantes !\n"
          ]
        }
      ]
    },
    {
      "cell_type": "code",
      "source": [
        "# 5. Faça um Programa que leia 20 números inteiros e armazene-os num vetor. Armazene os números\n",
        "# pares no vetor PAR e os números IMPARES no vetor impar. Imprima os três vetores."
      ],
      "metadata": {
        "id": "9OFZ6Byw35Hh"
      },
      "execution_count": null,
      "outputs": []
    },
    {
      "cell_type": "code",
      "source": [
        "# 6. Faça um Programa que peça as quatro notas de 10 alunos, calcule e armazene num vetor a média\n",
        "# de cada aluno, imprima o número de alunos com média maior ou igual a 7.0."
      ],
      "metadata": {
        "id": "lfDhXaVh35P5"
      },
      "execution_count": null,
      "outputs": []
    },
    {
      "cell_type": "code",
      "source": [
        "# 7. Faça um Programa que leia um vetor de 5 números inteiros,\n",
        "# mostre a soma, a multiplicação e os números."
      ],
      "metadata": {
        "id": "Hdj3ubH035WK"
      },
      "execution_count": null,
      "outputs": []
    },
    {
      "cell_type": "code",
      "source": [
        "# 8. Faça um Programa que peça a idade e a altura de 5 pessoas, armazene cada informação\n",
        "# no seu respectivo vetor. Imprima a idade e a altura na ordem inversa a ordem lida."
      ],
      "metadata": {
        "id": "kd0wkgvH35cq"
      },
      "execution_count": null,
      "outputs": []
    },
    {
      "cell_type": "code",
      "source": [
        "# 9. Faça um Programa que leia um vetor A com 10 números inteiros, calcule\n",
        "# e mostre a soma dos quadrados dos elementos do vetor."
      ],
      "metadata": {
        "id": "HAiwMvwC35hg"
      },
      "execution_count": null,
      "outputs": []
    },
    {
      "cell_type": "code",
      "source": [
        "# 10. Faça um Programa que leia dois vetores com 10 elementos cada. Gere um terceiro vetor de\n",
        "# 20 elementos, cujos valores deverão ser compostos pelos elementos intercalados dos dois outros vetores"
      ],
      "metadata": {
        "id": "5nCp5ycj35my"
      },
      "execution_count": null,
      "outputs": []
    }
  ]
}