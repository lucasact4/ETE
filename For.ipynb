{
  "nbformat": 4,
  "nbformat_minor": 0,
  "metadata": {
    "colab": {
      "name": "For.ipynb",
      "provenance": [],
      "collapsed_sections": []
    },
    "kernelspec": {
      "name": "python3",
      "display_name": "Python 3"
    },
    "language_info": {
      "name": "python"
    }
  },
  "cells": [
    {
      "cell_type": "code",
      "execution_count": null,
      "metadata": {
        "colab": {
          "base_uri": "https://localhost:8080/"
        },
        "id": "4f37Z7PXX27F",
        "outputId": "08ea8049-ee34-409d-c815-cf55674f382b"
      },
      "outputs": [
        {
          "output_type": "stream",
          "name": "stdout",
          "text": [
            "Lucas\n",
            "Alisson\n",
            "Guilherme\n"
          ]
        }
      ],
      "source": [
        "nomes = ['Lucas', 'Alisson', 'Guilherme']\n",
        "for n in nomes:\n",
        "  print(n)"
      ]
    }
  ]
}