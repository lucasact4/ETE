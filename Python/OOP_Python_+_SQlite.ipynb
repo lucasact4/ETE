{
  "nbformat": 4,
  "nbformat_minor": 0,
  "metadata": {
    "colab": {
      "provenance": [],
      "authorship_tag": "ABX9TyPz4PH0Lf77hf4wCH6eq5rP",
      "include_colab_link": true
    },
    "kernelspec": {
      "name": "python3",
      "display_name": "Python 3"
    },
    "language_info": {
      "name": "python"
    }
  },
  "cells": [
    {
      "cell_type": "markdown",
      "metadata": {
        "id": "view-in-github",
        "colab_type": "text"
      },
      "source": [
        "<a href=\"https://colab.research.google.com/github/lucasact4/Exercicios-ETE/blob/main/Python/OOP_Python_%2B_SQlite.ipynb\" target=\"_parent\"><img src=\"https://colab.research.google.com/assets/colab-badge.svg\" alt=\"Open In Colab\"/></a>"
      ]
    },
    {
      "cell_type": "code",
      "execution_count": null,
      "metadata": {
        "id": "va34L0GyFQTs"
      },
      "outputs": [],
      "source": [
        "class Jogador:\n",
        "  def __init__(self, nickname, personagem, sexo):\n",
        "    self.nickname = nickname\n",
        "    self.personagem = personagem\n",
        "    self.sexo = sexo\n",
        "\n",
        "lucasact4 = Jogador('lucasact4', 'Raze', 'Masculino')\n",
        "print('Nick: ' + lucasact4.nickname + '\\n' + 'Personagem: ' + lucasact4.personagem + '\\n' + 'Sexo: ' + lucasact4.sexo)"
      ]
    },
    {
      "cell_type": "code",
      "source": [
        "import sqlite3\n",
        "\n",
        "conn = sqlite3.connect(\"todo-app.db\")\n",
        "\n",
        "def criar_objetivo_ingame():\n",
        "  cursor = conn.cursor()\n",
        "  conn.execute(\"\"\"\n",
        "  create table if not exists tarefa (\n",
        "    cd_objetivo integer primary key autoincrement,\n",
        "    tarefa text,\n",
        "    concluido integer\n",
        "  )\n",
        "  \"\"\")\n",
        "\n",
        "def adicionar_Jogador(jogo):\n",
        "  conn.execute(\"insert into jogo(jogo, atualizado) values (?, 0)\", (jogo))\n",
        "  conn.commit()"
      ],
      "metadata": {
        "id": "vgr-hyqtFRNi"
      },
      "execution_count": null,
      "outputs": []
    }
  ]
}